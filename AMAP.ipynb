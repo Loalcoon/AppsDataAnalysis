{
 "cells": [
  {
   "cell_type": "markdown",
   "id": "8c5a4c0b-b13c-467f-9a20-3866c230c9bd",
   "metadata": {},
   "source": [
    "# Analyzing Mobile App Data\n",
    "\n",
    "The goal of this project is to help our developers understand which types of apps are likely to attract more users on Google Play and the App Store"
   ]
  },
  {
   "cell_type": "code",
   "execution_count": 2,
   "id": "7bd9f24a-6eb5-4079-b41f-75e51ad17429",
   "metadata": {},
   "outputs": [],
   "source": [
    "def explore_data(dataset, start, end, rows_and_columns = False):\n",
    "    dataset_slice = dataset[start:end]\n",
    "    for row in dataset_slice:\n",
    "        print(row)\n",
    "        print('\\n')\n",
    "    if rows_and_columns:\n",
    "        print('Number of rows:', len(dataset))\n",
    "        print('Number of columns:', len(dataset[0]))"
   ]
  },
  {
   "cell_type": "markdown",
   "id": "47245863-fa32-4065-9064-fb05007c896e",
   "metadata": {},
   "source": [
    "                                                The explore_data() function does the following:\n",
    "\n",
    "## Parameters:\n",
    "- Dataset, which will be a list of lists\n",
    "- Start and end, which will both be integers and represent the starting and the ending indices of a slice from the dataset\n",
    "- rows_and_columns, which will be a Boolean and has False as a default argument\n",
    "\n",
    "## Functionality:\n",
    "- Slices the dataset using `dataset[start:end]`\n",
    "- Loops through the slice, and for each iteration, prints a row and adds a new line after that row using `print('\\n')`\n",
    "  \n",
    " * `The \\n in print('\\n')` is a special character that won't print. Instead, the `\\n` character adds a new line, and we use `print('\\n')` to add some blank space between rows.\n",
    "\n",
    "## Optional Row and Column Count:\n",
    "- If `rows_and_columns` is set to `True`, it prints the number of rows and columns in the dataset.\n",
    "\n",
    "  \n",
    "## The dataset shouldn't have a header row, or the function will print the wrong number of rows (one more row compared to the actual length)"
   ]
  },
  {
   "cell_type": "markdown",
   "id": "9c06324f-08f9-460f-a493-7d407edf86c0",
   "metadata": {},
   "source": [
    "## With the code below we are opening both iOS and Google Store data:"
   ]
  },
  {
   "cell_type": "code",
   "execution_count": 5,
   "id": "a9389786-2478-47bc-b430-3234b850e730",
   "metadata": {},
   "outputs": [],
   "source": [
    "from csv import reader\n",
    "\n",
    "## Google Play ###\n",
    "opened_file = open('googleplaystore.csv', encoding='utf-8')\n",
    "read_file = reader(opened_file)\n",
    "android = list(read_file)\n",
    "android_header = android[0]\n",
    "android = android[1:]\n",
    "\n",
    "### App Store ###\n",
    "\n",
    "opened_file = open('AppleStore.csv', encoding='utf-8')\n",
    "read_file = reader(opened_file)\n",
    "ios = list(read_file)\n",
    "ios_header = ios[0]\n",
    "ios = ios[1:]"
   ]
  },
  {
   "cell_type": "code",
   "execution_count": 6,
   "id": "1bed8478-8251-4c6a-9423-afe6acda8970",
   "metadata": {},
   "outputs": [
    {
     "name": "stdout",
     "output_type": "stream",
     "text": [
      "['App', 'Category', 'Rating', 'Reviews', 'Size', 'Installs', 'Type', 'Price', 'Content Rating', 'Genres', 'Last Updated', 'Current Ver', 'Android Ver']\n",
      "\n",
      "\n",
      "['Photo Editor & Candy Camera & Grid & ScrapBook', 'ART_AND_DESIGN', '4.1', '159', '19M', '10,000+', 'Free', '0', 'Everyone', 'Art & Design', 'January 7, 2018', '1.0.0', '4.0.3 and up']\n",
      "\n",
      "\n",
      "['Coloring book moana', 'ART_AND_DESIGN', '3.9', '967', '14M', '500,000+', 'Free', '0', 'Everyone', 'Art & Design;Pretend Play', 'January 15, 2018', '2.0.0', '4.0.3 and up']\n",
      "\n",
      "\n",
      "['U Launcher Lite – FREE Live Cool Themes, Hide Apps', 'ART_AND_DESIGN', '4.7', '87510', '8.7M', '5,000,000+', 'Free', '0', 'Everyone', 'Art & Design', 'August 1, 2018', '1.2.4', '4.0.3 and up']\n",
      "\n",
      "\n",
      "Number of rows: 10841\n",
      "Number of columns: 13\n"
     ]
    }
   ],
   "source": [
    "print(android_header)\n",
    "print('\\n')\n",
    "explore_data(android, 0, 3, True)"
   ]
  },
  {
   "cell_type": "markdown",
   "id": "8eaf5137-fea3-4ecb-922f-9af77aa67dfa",
   "metadata": {},
   "source": [
    "# The next stage is to clean the data:\n",
    "- Remove malfunctioned data\n",
    "- Remove duplicates\n",
    "- Remove non-English apps\n",
    "- Remove apps that aren't free"
   ]
  },
  {
   "cell_type": "markdown",
   "id": "0d93c583-a01e-4ade-bc49-559d87311185",
   "metadata": {},
   "source": [
    "## `del android[10472]` was used to delete a row with corrupted data(missing information) and that WILL brick our code below."
   ]
  },
  {
   "cell_type": "code",
   "execution_count": 9,
   "id": "9ec80224-8d34-496d-8d8e-8b3c9232bcc8",
   "metadata": {
    "scrolled": true
   },
   "outputs": [
    {
     "name": "stdout",
     "output_type": "stream",
     "text": [
      "Number of duplicate apps: 1181\n",
      "\n",
      "\n",
      "Examples of duplicate apps: ['Quick PDF Scanner + OCR FREE', 'Box', 'Google My Business', 'ZOOM Cloud Meetings', 'join.me - Simple Meetings', 'Box', 'Zenefits', 'Google Ads', 'Google My Business', 'Slack', 'FreshBooks Classic', 'Insightly CRM', 'QuickBooks Accounting: Invoicing & Expenses', 'HipChat - Chat Built for Teams', 'Xero Accounting Software']\n"
     ]
    }
   ],
   "source": [
    "uniq_apps = []\n",
    "duplicate_apps = []\n",
    "\n",
    "for app in android:\n",
    "    name = app[0]\n",
    "    if name in uniq_apps:\n",
    "        duplicate_apps.append(name)\n",
    "    else:\n",
    "        uniq_apps.append(name)\n",
    "\n",
    "print('Number of duplicate apps:', len(duplicate_apps))\n",
    "print('\\n')\n",
    "print('Examples of duplicate apps:', duplicate_apps[:15])"
   ]
  },
  {
   "cell_type": "markdown",
   "id": "a4ce701d-260b-439b-a9a0-88a25ec8d40a",
   "metadata": {},
   "source": [
    "As we can see from the row above, we have multiple duplicates available and the main difference is the amount of reviews.\n",
    "So likely we want to use the one with the biggest amount of reviews available (since it would mean the latest timestamp taken).\n",
    "\n",
    "Further steps:\n",
    "- Create a separate dictionary out of the current one using a unique app name and the highest number of reviews (latest timestamp)."
   ]
  },
  {
   "cell_type": "code",
   "execution_count": 38,
   "id": "a103930c-6e7b-4a7e-9886-03321f6168af",
   "metadata": {},
   "outputs": [
    {
     "name": "stdout",
     "output_type": "stream",
     "text": [
      "Expected length: 9659\n",
      "Actual length: 9659\n"
     ]
    }
   ],
   "source": [
    "reviews_max = {}\n",
    "\n",
    "for app in android:\n",
    "    name = app[0]\n",
    "    n_reviews = float(app[3])\n",
    "    \n",
    "    if name in reviews_max and reviews_max[name] < n_reviews:\n",
    "        reviews_max[name] = n_reviews\n",
    "        \n",
    "    elif name not in reviews_max:\n",
    "        reviews_max[name] = n_reviews\n",
    "\n",
    "print('Expected length:', len(android) - 1181)\n",
    "print('Actual length:', len(reviews_max))"
   ]
  },
  {
   "cell_type": "markdown",
   "id": "ca6ae9f2-5c01-4371-9f11-27b0d735907f",
   "metadata": {},
   "source": [
    "The code above shows us the amount of actual apps that we should have in our list. We don't want to count certain apps\n",
    "that are already a part of our list."
   ]
  },
  {
   "cell_type": "code",
   "execution_count": 36,
   "id": "62326a1d-1bc0-42d2-83e8-246664f1d67c",
   "metadata": {},
   "outputs": [
    {
     "name": "stdout",
     "output_type": "stream",
     "text": [
      "['Photo Editor & Candy Camera & Grid & ScrapBook', 'ART_AND_DESIGN', '4.1', '159', '19M', '10,000+', 'Free', '0', 'Everyone', 'Art & Design', 'January 7, 2018', '1.0.0', '4.0.3 and up']\n",
      "\n",
      "\n",
      "['U Launcher Lite – FREE Live Cool Themes, Hide Apps', 'ART_AND_DESIGN', '4.7', '87510', '8.7M', '5,000,000+', 'Free', '0', 'Everyone', 'Art & Design', 'August 1, 2018', '1.2.4', '4.0.3 and up']\n",
      "\n",
      "\n",
      "['Sketch - Draw & Paint', 'ART_AND_DESIGN', '4.5', '215644', '25M', '50,000,000+', 'Free', '0', 'Teen', 'Art & Design', 'June 8, 2018', 'Varies with device', '4.2 and up']\n",
      "\n",
      "\n",
      "Number of rows: 9659\n",
      "Number of columns: 13\n"
     ]
    }
   ],
   "source": [
    "android_clean = []\n",
    "already_added = []\n",
    "\n",
    "for app in android:\n",
    "    name = app[0]\n",
    "    n_reviews = float(app[3])\n",
    "\n",
    "    if (n_reviews == reviews_max[name]) and (name not in already_added):\n",
    "        android_clean.append(app)\n",
    "        already_added.append(name)\n",
    "\n",
    "explore_data(android_clean, 0, 3, True)"
   ]
  },
  {
   "cell_type": "markdown",
   "id": "c0832979-adcb-4cdb-b5e5-8cce07708ce6",
   "metadata": {},
   "source": [
    "# Now we have made an actual list with no duplicate data.\n",
    "\n",
    "For the duplicate cases, we'll only keep the entries with the highest number of reviews."
   ]
  },
  {
   "cell_type": "markdown",
   "id": "2d8fa8be-0a86-4aee-a496-6e742e488556",
   "metadata": {},
   "source": [
    "We use English for the apps we develop at our company, and we'd like to analyze only the apps that are designed for an English-speaking audience.\n",
    "\n",
    "Due to that next stage will be to remove apps that are non English."
   ]
  },
  {
   "cell_type": "code",
   "execution_count": null,
   "id": "a8662485-96da-40a4-af88-5f66f440a5af",
   "metadata": {},
   "outputs": [],
   "source": []
  }
 ],
 "metadata": {
  "kernelspec": {
   "display_name": "Python 3 (ipykernel)",
   "language": "python",
   "name": "python3"
  },
  "language_info": {
   "codemirror_mode": {
    "name": "ipython",
    "version": 3
   },
   "file_extension": ".py",
   "mimetype": "text/x-python",
   "name": "python",
   "nbconvert_exporter": "python",
   "pygments_lexer": "ipython3",
   "version": "3.12.7"
  }
 },
 "nbformat": 4,
 "nbformat_minor": 5
}
