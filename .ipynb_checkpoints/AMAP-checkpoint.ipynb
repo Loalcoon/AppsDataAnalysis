{
 "cells": [
  {
   "cell_type": "markdown",
   "id": "8c5a4c0b-b13c-467f-9a20-3866c230c9bd",
   "metadata": {},
   "source": [
    "# Analyzing Mobile App Data\n",
    "\n",
    "The goal of this project is to help our developers understand which types of apps are likely to attract more users on Google Play and the App Store"
   ]
  },
  {
   "cell_type": "code",
   "execution_count": 2,
   "id": "7bd9f24a-6eb5-4079-b41f-75e51ad17429",
   "metadata": {},
   "outputs": [],
   "source": [
    "def explore_data(dataset, start, end, rows_and_columns = False):\n",
    "    dataset_slice = dataset[start:end]\n",
    "    for row in dataset_slice:\n",
    "        print(row)\n",
    "        print('\\n')\n",
    "    if rows_and_columns:\n",
    "        print('Number of rows:', len(dataset))\n",
    "        print('Number of columns:', len(dataset[0]))"
   ]
  },
  {
   "cell_type": "markdown",
   "id": "47245863-fa32-4065-9064-fb05007c896e",
   "metadata": {},
   "source": [
    "                                                The explore_data() function does the following:\n",
    "\n",
    "## Parameters:\n",
    "- Dataset, which will be a list of lists\n",
    "- Start and end, which will both be integers and represent the starting and the ending indices of a slice from the dataset.\n",
    "- rows_and_columns, which will be a Boolean and has False as a default argument\n",
    "\n",
    "## Functionality:\n",
    "- Slices the dataset using `dataset[start:end]`\n",
    "- Loops through the slice, and for each iteration, prints a row and adds a new line after that row using `print('\\n')`\n",
    "  \n",
    " * `The \\n in print('\\n')` is a special character that won't print. Instead, the `\\n` character adds a new line, and we use `print('\\n')` to add some blank space between rows.\n",
    "\n",
    "## Optional Row and Column Count:\n",
    "- If `rows_and_columns` is set to `True`, it prints the number of rows and columns in the dataset.\n",
    "\n",
    "  \n",
    "## The dataset shouldn't have a header row, or the function will print the wrong number of rows (one more row compared to the actual length)"
   ]
  },
  {
   "cell_type": "markdown",
   "id": "9c06324f-08f9-460f-a493-7d407edf86c0",
   "metadata": {},
   "source": [
    "## With the code below we are opening both iOS and Google Store data:"
   ]
  },
  {
   "cell_type": "code",
   "execution_count": 5,
   "id": "a9389786-2478-47bc-b430-3234b850e730",
   "metadata": {},
   "outputs": [],
   "source": [
    "from csv import reader\n",
    "\n",
    "## Google Play ###\n",
    "opened_file = open('googleplaystore.csv', encoding='utf-8')\n",
    "read_file = reader(opened_file)\n",
    "android = list(read_file)\n",
    "android_header = android[0]\n",
    "android = android[1:]\n",
    "\n",
    "### App Store ###\n",
    "\n",
    "opened_file = open('AppleStore.csv', encoding='utf-8')\n",
    "read_file = reader(opened_file)\n",
    "ios = list(read_file)\n",
    "ios_header = ios[0]\n",
    "ios = ios[1:]"
   ]
  },
  {
   "cell_type": "code",
   "execution_count": 6,
   "id": "1bed8478-8251-4c6a-9423-afe6acda8970",
   "metadata": {},
   "outputs": [
    {
     "name": "stdout",
     "output_type": "stream",
     "text": [
      "['App', 'Category', 'Rating', 'Reviews', 'Size', 'Installs', 'Type', 'Price', 'Content Rating', 'Genres', 'Last Updated', 'Current Ver', 'Android Ver']\n",
      "\n",
      "\n",
      "['Photo Editor & Candy Camera & Grid & ScrapBook', 'ART_AND_DESIGN', '4.1', '159', '19M', '10,000+', 'Free', '0', 'Everyone', 'Art & Design', 'January 7, 2018', '1.0.0', '4.0.3 and up']\n",
      "\n",
      "\n",
      "['Coloring book moana', 'ART_AND_DESIGN', '3.9', '967', '14M', '500,000+', 'Free', '0', 'Everyone', 'Art & Design;Pretend Play', 'January 15, 2018', '2.0.0', '4.0.3 and up']\n",
      "\n",
      "\n",
      "['U Launcher Lite – FREE Live Cool Themes, Hide Apps', 'ART_AND_DESIGN', '4.7', '87510', '8.7M', '5,000,000+', 'Free', '0', 'Everyone', 'Art & Design', 'August 1, 2018', '1.2.4', '4.0.3 and up']\n",
      "\n",
      "\n",
      "Number of rows: 10841\n",
      "Number of columns: 13\n"
     ]
    }
   ],
   "source": [
    "print(android_header)\n",
    "print('\\n')\n",
    "explore_data(android, 0, 3, True)"
   ]
  },
  {
   "cell_type": "markdown",
   "id": "8eaf5137-fea3-4ecb-922f-9af77aa67dfa",
   "metadata": {},
   "source": [
    "# The next stage is to clean the data:\n",
    "- Remove malfunctioned data\n",
    "- Remove duplicates\n",
    "- Remove non-English apps\n",
    "- Remove apps that aren't free"
   ]
  },
  {
   "cell_type": "code",
   "execution_count": 8,
   "id": "5186eb18-c8f7-4737-b5d1-a2cd70a55c2d",
   "metadata": {},
   "outputs": [],
   "source": [
    "del android[10472]"
   ]
  },
  {
   "cell_type": "markdown",
   "id": "0d93c583-a01e-4ade-bc49-559d87311185",
   "metadata": {},
   "source": [
    "## `del android[10472]` was used to delete a row with corrupted data(missing information) and that WILL brick our code below."
   ]
  },
  {
   "cell_type": "code",
   "execution_count": 10,
   "id": "9ec80224-8d34-496d-8d8e-8b3c9232bcc8",
   "metadata": {
    "scrolled": true
   },
   "outputs": [
    {
     "name": "stdout",
     "output_type": "stream",
     "text": [
      "Number of duplicate apps: 1181\n",
      "\n",
      "\n",
      "Examples of duplicate apps: ['Quick PDF Scanner + OCR FREE', 'Box', 'Google My Business', 'ZOOM Cloud Meetings', 'join.me - Simple Meetings', 'Box', 'Zenefits', 'Google Ads', 'Google My Business', 'Slack', 'FreshBooks Classic', 'Insightly CRM', 'QuickBooks Accounting: Invoicing & Expenses', 'HipChat - Chat Built for Teams', 'Xero Accounting Software']\n"
     ]
    }
   ],
   "source": [
    "uniq_apps = []\n",
    "duplicate_apps = []\n",
    "\n",
    "for app in android:\n",
    "    name = app[0]\n",
    "    if name in uniq_apps:\n",
    "        duplicate_apps.append(name)\n",
    "    else:\n",
    "        uniq_apps.append(name)\n",
    "\n",
    "print('Number of duplicate apps:', len(duplicate_apps))\n",
    "print('\\n')\n",
    "print('Examples of duplicate apps:', duplicate_apps[:15])"
   ]
  },
  {
   "cell_type": "markdown",
   "id": "a4ce701d-260b-439b-a9a0-88a25ec8d40a",
   "metadata": {},
   "source": [
    "As we can see from the row above, we have multiple duplicates available and the main difference is the amount of reviews.\n",
    "So likely we want to use the one with the biggest amount of reviews available (since it would mean the latest timestamp taken).\n",
    "\n",
    "Further steps:\n",
    "- Create a separate dictionary out of the current one using a unique app name and the highest number of reviews (latest timestamp)."
   ]
  },
  {
   "cell_type": "code",
   "execution_count": 12,
   "id": "a103930c-6e7b-4a7e-9886-03321f6168af",
   "metadata": {},
   "outputs": [
    {
     "name": "stdout",
     "output_type": "stream",
     "text": [
      "Expected length: 9659\n",
      "Actual length: 9659\n"
     ]
    }
   ],
   "source": [
    "reviews_max = {}\n",
    "\n",
    "for app in android:\n",
    "    name = app[0]\n",
    "    n_reviews = float(app[3])\n",
    "    \n",
    "    if name in reviews_max and reviews_max[name] < n_reviews:\n",
    "        reviews_max[name] = n_reviews\n",
    "        \n",
    "    elif name not in reviews_max:\n",
    "        reviews_max[name] = n_reviews\n",
    "\n",
    "print('Expected length:', len(android) - 1181)\n",
    "print('Actual length:', len(reviews_max))"
   ]
  },
  {
   "cell_type": "markdown",
   "id": "ca6ae9f2-5c01-4371-9f11-27b0d735907f",
   "metadata": {},
   "source": [
    "The code above shows us the amount of actual apps that we should have in our list. We don't want to count certain apps\n",
    "that are already a part of our list."
   ]
  },
  {
   "cell_type": "code",
   "execution_count": 14,
   "id": "62326a1d-1bc0-42d2-83e8-246664f1d67c",
   "metadata": {},
   "outputs": [
    {
     "name": "stdout",
     "output_type": "stream",
     "text": [
      "['Photo Editor & Candy Camera & Grid & ScrapBook', 'ART_AND_DESIGN', '4.1', '159', '19M', '10,000+', 'Free', '0', 'Everyone', 'Art & Design', 'January 7, 2018', '1.0.0', '4.0.3 and up']\n",
      "\n",
      "\n",
      "['U Launcher Lite – FREE Live Cool Themes, Hide Apps', 'ART_AND_DESIGN', '4.7', '87510', '8.7M', '5,000,000+', 'Free', '0', 'Everyone', 'Art & Design', 'August 1, 2018', '1.2.4', '4.0.3 and up']\n",
      "\n",
      "\n",
      "['Sketch - Draw & Paint', 'ART_AND_DESIGN', '4.5', '215644', '25M', '50,000,000+', 'Free', '0', 'Teen', 'Art & Design', 'June 8, 2018', 'Varies with device', '4.2 and up']\n",
      "\n",
      "\n",
      "Number of rows: 9659\n",
      "Number of columns: 13\n"
     ]
    }
   ],
   "source": [
    "android_clean = []\n",
    "already_added = []\n",
    "\n",
    "for app in android:\n",
    "    name = app[0]\n",
    "    n_reviews = float(app[3])\n",
    "\n",
    "    if (n_reviews == reviews_max[name]) and (name not in already_added):\n",
    "        android_clean.append(app)\n",
    "        already_added.append(name)\n",
    "\n",
    "explore_data(android_clean, 0, 3, True)"
   ]
  },
  {
   "cell_type": "markdown",
   "id": "c0832979-adcb-4cdb-b5e5-8cce07708ce6",
   "metadata": {},
   "source": [
    "# Now we have made an actual list with no duplicate data.\n",
    "\n",
    "For the duplicate cases, we'll only keep the entries with the highest number of reviews."
   ]
  },
  {
   "cell_type": "markdown",
   "id": "2d8fa8be-0a86-4aee-a496-6e742e488556",
   "metadata": {},
   "source": [
    "We use English for the apps we develop at our company, and we'd like to analyze only the apps that are designed for an English-speaking audience.\n",
    "\n",
    "Due to that next stage will be to remove apps that are non English."
   ]
  },
  {
   "cell_type": "code",
   "execution_count": 17,
   "id": "a8662485-96da-40a4-af88-5f66f440a5af",
   "metadata": {},
   "outputs": [],
   "source": [
    "def name_check(string):\n",
    "    non_ascii_count = 0\n",
    "\n",
    "    for char in string:\n",
    "        if ord(char) > 127:\n",
    "            non_ascii_count +=1\n",
    "\n",
    "            if non_ascii_count > 3:\n",
    "                return False\n",
    "\n",
    "    return True"
   ]
  },
  {
   "cell_type": "markdown",
   "id": "88cfe198-31b2-4028-86ac-565521eae261",
   "metadata": {},
   "source": [
    "The function above will check:\n",
    "\n",
    "- How many characters from non-ASCII does the app name have. If it has non-ASCII characters and there is more than 3 we will treat this as non English App"
   ]
  },
  {
   "cell_type": "code",
   "execution_count": 19,
   "id": "9cff421e-b92a-449e-bc08-0a048cec6b83",
   "metadata": {},
   "outputs": [
    {
     "name": "stdout",
     "output_type": "stream",
     "text": [
      "[['Photo Editor & Candy Camera & Grid & ScrapBook', 'ART_AND_DESIGN', '4.1', '159', '19M', '10,000+', 'Free', '0', 'Everyone', 'Art & Design', 'January 7, 2018', '1.0.0', '4.0.3 and up']] 9614\n",
      "[['284882215', 'Facebook', '389879808', 'USD', '0.0', '2974676', '212', '3.5', '3.5', '95.0', '4+', 'Social Networking', '37', '1', '29', '1']] 6183\n"
     ]
    }
   ],
   "source": [
    "english_apps_android = []\n",
    "english_apps_ios = []\n",
    "\n",
    "for app in android_clean:\n",
    "    eng = app[0]\n",
    "    if name_check(eng):\n",
    "        english_apps_android.append(app)\n",
    "\n",
    "for app in ios:\n",
    "    eng_ios = app[1]\n",
    "    if name_check(eng_ios):\n",
    "        english_apps_ios.append(app)\n",
    "\n",
    "print(english_apps_android[:1], len(english_apps_android))\n",
    "print(english_apps_ios[:1], len(english_apps_ios))"
   ]
  },
  {
   "cell_type": "markdown",
   "id": "bd80fdf5-f897-4684-ade0-d7e228e6181d",
   "metadata": {},
   "source": [
    "We have cleaned the data from non-ascii characters and now we have:\n",
    "\n",
    "- 9614 Apps in Android - `english_apps_android`\n",
    "- 6183 Apps in iOS - `english_apps_ios`\n",
    "\n",
    "## So far we have:\n",
    "\n",
    "- Removed inaccurate data\n",
    "- Removed duplicates\n",
    "- Removed non-English apps\n",
    "\n",
    "The final step is to remove paid apps."
   ]
  },
  {
   "cell_type": "code",
   "execution_count": 33,
   "id": "88f57fe2-a99a-405e-986e-36b4fdceefca",
   "metadata": {},
   "outputs": [
    {
     "name": "stdout",
     "output_type": "stream",
     "text": [
      "8864\n",
      "3222\n"
     ]
    }
   ],
   "source": [
    "free_apps_android = []\n",
    "free_apps_ios = []\n",
    "\n",
    "for app in english_apps_android:\n",
    "    if app[7] == '0' or app[7] == '0.0' or app[7] == 'Free':\n",
    "        free_apps_android.append(app)\n",
    "\n",
    "for app in english_apps_ios:\n",
    "    if app[4] == '0' or app[4] == 'Free' or app[4] == '0.0':\n",
    "        free_apps_ios.append(app)\n",
    "\n",
    "print(len(free_apps_android))\n",
    "print(len(free_apps_ios))"
   ]
  },
  {
   "cell_type": "markdown",
   "id": "6bb0479a-0793-40b7-9c98-7a20b2456bd6",
   "metadata": {},
   "source": [
    "## Capstone: Data was cleaned\n",
    "\n",
    "After all cleanings we have:\n",
    "\n",
    "- 8864 Android Apps : `free_apps_android`\n",
    "- 3222 iOS Apps : `free_apps_ios`\n",
    "\n",
    "The next part is to find an app that will be profitable in both stores. \n",
    "Since we are using free apps and our revenue comes from the ads, we need to find the most popular and most downloaded apps.\n",
    "\n",
    "We can start by analysing and determining common genres for both markets. "
   ]
  },
  {
   "cell_type": "markdown",
   "id": "949fabf9-52dd-4f0b-af7b-6eedbc8c3082",
   "metadata": {},
   "source": [
    "- We will be focusing on Genre & Category for Android\n",
    "- And prime_genre for iOS store"
   ]
  },
  {
   "cell_type": "code",
   "execution_count": 70,
   "id": "180f9d12-0c3d-49e6-926c-e47c3427b95d",
   "metadata": {},
   "outputs": [
    {
     "name": "stdout",
     "output_type": "stream",
     "text": [
      "FAMILY : 18.907942238267147\n",
      "GAME : 9.724729241877256\n",
      "TOOLS : 8.461191335740072\n",
      "BUSINESS : 4.591606498194946\n",
      "LIFESTYLE : 3.9034296028880866\n",
      "PRODUCTIVITY : 3.892148014440433\n",
      "FINANCE : 3.7003610108303246\n",
      "MEDICAL : 3.531137184115524\n",
      "SPORTS : 3.395758122743682\n",
      "PERSONALIZATION : 3.3167870036101084\n",
      "COMMUNICATION : 3.2378158844765346\n",
      "HEALTH_AND_FITNESS : 3.0798736462093865\n",
      "PHOTOGRAPHY : 2.944494584837545\n",
      "NEWS_AND_MAGAZINES : 2.7978339350180503\n",
      "SOCIAL : 2.6624548736462095\n",
      "TRAVEL_AND_LOCAL : 2.33528880866426\n",
      "SHOPPING : 2.2450361010830324\n",
      "BOOKS_AND_REFERENCE : 2.1435018050541514\n",
      "DATING : 1.861462093862816\n",
      "VIDEO_PLAYERS : 1.7937725631768955\n",
      "MAPS_AND_NAVIGATION : 1.3989169675090252\n",
      "FOOD_AND_DRINK : 1.2409747292418771\n",
      "EDUCATION : 1.1620036101083033\n",
      "ENTERTAINMENT : 0.9589350180505415\n",
      "LIBRARIES_AND_DEMO : 0.9363718411552346\n",
      "AUTO_AND_VEHICLES : 0.9250902527075812\n",
      "HOUSE_AND_HOME : 0.8235559566787004\n",
      "WEATHER : 0.8009927797833934\n",
      "EVENTS : 0.7107400722021661\n",
      "PARENTING : 0.6543321299638989\n",
      "ART_AND_DESIGN : 0.6430505415162455\n",
      "COMICS : 0.6204873646209386\n",
      "BEAUTY : 0.5979241877256317\n",
      "None\n",
      "\n",
      "\n",
      "Tools : 8.449909747292418\n",
      "Entertainment : 6.069494584837545\n",
      "Education : 5.347472924187725\n",
      "Business : 4.591606498194946\n",
      "Productivity : 3.892148014440433\n",
      "Lifestyle : 3.892148014440433\n",
      "Finance : 3.7003610108303246\n",
      "Medical : 3.531137184115524\n",
      "Sports : 3.463447653429603\n",
      "Personalization : 3.3167870036101084\n",
      "Communication : 3.2378158844765346\n",
      "Action : 3.1024368231046933\n",
      "Health & Fitness : 3.0798736462093865\n",
      "Photography : 2.944494584837545\n",
      "News & Magazines : 2.7978339350180503\n",
      "Social : 2.6624548736462095\n",
      "Travel & Local : 2.3240072202166067\n",
      "Shopping : 2.2450361010830324\n",
      "Books & Reference : 2.1435018050541514\n",
      "Simulation : 2.0419675090252705\n",
      "Dating : 1.861462093862816\n",
      "Arcade : 1.8501805054151623\n",
      "Video Players & Editors : 1.7712093862815883\n",
      "Casual : 1.7599277978339352\n",
      "Maps & Navigation : 1.3989169675090252\n",
      "Food & Drink : 1.2409747292418771\n",
      "Puzzle : 1.128158844765343\n",
      "Racing : 0.9927797833935018\n",
      "Role Playing : 0.9363718411552346\n",
      "Libraries & Demo : 0.9363718411552346\n",
      "Auto & Vehicles : 0.9250902527075812\n",
      "Strategy : 0.9138086642599278\n",
      "House & Home : 0.8235559566787004\n",
      "Weather : 0.8009927797833934\n",
      "Events : 0.7107400722021661\n",
      "Adventure : 0.6768953068592057\n",
      "Comics : 0.6092057761732852\n",
      "Beauty : 0.5979241877256317\n",
      "Art & Design : 0.5979241877256317\n",
      "Parenting : 0.4963898916967509\n",
      "Card : 0.45126353790613716\n",
      "Casino : 0.42870036101083037\n",
      "Trivia : 0.41741877256317694\n",
      "Educational;Education : 0.39485559566787\n",
      "Board : 0.3835740072202166\n",
      "Educational : 0.3722924187725632\n",
      "Education;Education : 0.33844765342960287\n",
      "Word : 0.2594765342960289\n",
      "Casual;Pretend Play : 0.236913357400722\n",
      "Music : 0.2030685920577617\n",
      "Racing;Action & Adventure : 0.16922382671480143\n",
      "Puzzle;Brain Games : 0.16922382671480143\n",
      "Entertainment;Music & Video : 0.16922382671480143\n",
      "Casual;Brain Games : 0.13537906137184114\n",
      "Casual;Action & Adventure : 0.13537906137184114\n",
      "Arcade;Action & Adventure : 0.12409747292418773\n",
      "Action;Action & Adventure : 0.10153429602888085\n",
      "Educational;Pretend Play : 0.09025270758122744\n",
      "Simulation;Action & Adventure : 0.078971119133574\n",
      "Parenting;Education : 0.078971119133574\n",
      "Entertainment;Brain Games : 0.078971119133574\n",
      "Board;Brain Games : 0.078971119133574\n",
      "Parenting;Music & Video : 0.06768953068592057\n",
      "Educational;Brain Games : 0.06768953068592057\n",
      "Casual;Creativity : 0.06768953068592057\n",
      "Art & Design;Creativity : 0.06768953068592057\n",
      "Education;Pretend Play : 0.056407942238267145\n",
      "Role Playing;Pretend Play : 0.04512635379061372\n",
      "Education;Creativity : 0.04512635379061372\n",
      "Role Playing;Action & Adventure : 0.033844765342960284\n",
      "Puzzle;Action & Adventure : 0.033844765342960284\n",
      "Entertainment;Creativity : 0.033844765342960284\n",
      "Entertainment;Action & Adventure : 0.033844765342960284\n",
      "Educational;Creativity : 0.033844765342960284\n",
      "Educational;Action & Adventure : 0.033844765342960284\n",
      "Education;Music & Video : 0.033844765342960284\n",
      "Education;Brain Games : 0.033844765342960284\n",
      "Education;Action & Adventure : 0.033844765342960284\n",
      "Adventure;Action & Adventure : 0.033844765342960284\n",
      "Video Players & Editors;Music & Video : 0.02256317689530686\n",
      "Sports;Action & Adventure : 0.02256317689530686\n",
      "Simulation;Pretend Play : 0.02256317689530686\n",
      "Puzzle;Creativity : 0.02256317689530686\n",
      "Music;Music & Video : 0.02256317689530686\n",
      "Entertainment;Pretend Play : 0.02256317689530686\n",
      "Casual;Education : 0.02256317689530686\n",
      "Board;Action & Adventure : 0.02256317689530686\n",
      "Video Players & Editors;Creativity : 0.01128158844765343\n",
      "Trivia;Education : 0.01128158844765343\n",
      "Travel & Local;Action & Adventure : 0.01128158844765343\n",
      "Tools;Education : 0.01128158844765343\n",
      "Strategy;Education : 0.01128158844765343\n",
      "Strategy;Creativity : 0.01128158844765343\n",
      "Strategy;Action & Adventure : 0.01128158844765343\n",
      "Simulation;Education : 0.01128158844765343\n",
      "Role Playing;Brain Games : 0.01128158844765343\n",
      "Racing;Pretend Play : 0.01128158844765343\n",
      "Puzzle;Education : 0.01128158844765343\n",
      "Parenting;Brain Games : 0.01128158844765343\n",
      "Music & Audio;Music & Video : 0.01128158844765343\n",
      "Lifestyle;Pretend Play : 0.01128158844765343\n",
      "Lifestyle;Education : 0.01128158844765343\n",
      "Health & Fitness;Education : 0.01128158844765343\n",
      "Health & Fitness;Action & Adventure : 0.01128158844765343\n",
      "Entertainment;Education : 0.01128158844765343\n",
      "Communication;Creativity : 0.01128158844765343\n",
      "Comics;Creativity : 0.01128158844765343\n",
      "Casual;Music & Video : 0.01128158844765343\n",
      "Card;Action & Adventure : 0.01128158844765343\n",
      "Books & Reference;Education : 0.01128158844765343\n",
      "Art & Design;Pretend Play : 0.01128158844765343\n",
      "Art & Design;Action & Adventure : 0.01128158844765343\n",
      "Arcade;Pretend Play : 0.01128158844765343\n",
      "Adventure;Education : 0.01128158844765343\n",
      "None\n",
      "\n",
      "\n",
      "Games : 58.16263190564867\n",
      "Entertainment : 7.883302296710118\n",
      "Photo & Video : 4.9658597144630665\n",
      "Education : 3.662321539416512\n",
      "Social Networking : 3.2898820608317814\n",
      "Shopping : 2.60707635009311\n",
      "Utilities : 2.5139664804469275\n",
      "Sports : 2.1415270018621975\n",
      "Music : 2.0484171322160147\n",
      "Health & Fitness : 2.0173805090006205\n",
      "Productivity : 1.7380509000620732\n",
      "Lifestyle : 1.5828677839851024\n",
      "News : 1.3345747982619491\n",
      "Travel : 1.2414649286157666\n",
      "Finance : 1.1173184357541899\n",
      "Weather : 0.8690254500310366\n",
      "Food & Drink : 0.8069522036002483\n",
      "Reference : 0.5586592178770949\n",
      "Business : 0.5276225946617008\n",
      "Book : 0.4345127250155183\n",
      "Navigation : 0.186219739292365\n",
      "Medical : 0.186219739292365\n",
      "Catalogs : 0.12414649286157665\n",
      "None\n"
     ]
    }
   ],
   "source": [
    "def freq_table(dataset, index):\n",
    "    table = {}\n",
    "    count = 0\n",
    "    \n",
    "    for app in dataset:\n",
    "        count += 1\n",
    "        value = app[index]\n",
    "        if value in table:\n",
    "            table[value] += 1\n",
    "        else:\n",
    "            table[value] = 1\n",
    "    \n",
    "    percentages = {}\n",
    "    for key in table:\n",
    "        percentage = (table[key] / count) * 100\n",
    "        percentages[key] = percentage\n",
    "    return percentages\n",
    "\n",
    "def display_table(dataset, index):\n",
    "    table = freq_table(dataset, index)\n",
    "    table_display = []\n",
    "    for key in table:\n",
    "        key_val_as_tuple = (table[key], key)\n",
    "        table_display.append(key_val_as_tuple)\n",
    "\n",
    "    table_sorted = sorted(table_display, reverse = True)\n",
    "    for entry in table_sorted:\n",
    "        print(entry[1], ':', entry[0])\n",
    "\n",
    "print(display_table(free_apps_android, 1))\n",
    "print('\\n')\n",
    "print(display_table(free_apps_android, 9))\n",
    "print('\\n')\n",
    "print(display_table(free_apps_ios, 11))"
   ]
  },
  {
   "cell_type": "markdown",
   "id": "d82108bc-0eff-4b6c-8a0d-451fff104cc4",
   "metadata": {},
   "source": [
    "## Functions above do 2 things:\n",
    "\n",
    "- Allow us to generate a frequency table with parameters `dataset`, `index` plus provides us with percentage of occurence\n",
    "- Second function transforms the frequency table into a list of tuples and then sorts the list in descending order"
   ]
  },
  {
   "cell_type": "markdown",
   "id": "63cc6db3-e41c-4853-95ad-2dac948961a5",
   "metadata": {},
   "source": [
    "## Percentage and result that we see:\n",
    "\n",
    "Based on the data we have, the most popular apps for the English Android Store have categories and genres:\n",
    "\n",
    "Category based:\n",
    "\n",
    "- Family 18.90%\n",
    "- Games 9.72%\n",
    "- Tools 8.46%\n",
    "- Business 4.59%\n",
    "\n",
    "Genre based:\n",
    "\n",
    "- Tools 8.44%\n",
    "- Entertainment 6.06%\n",
    "- Education 5.34%\n",
    "- Business 4.59%\n",
    "\n",
    "As for the iOS store, based on prime_genre:\n",
    "\n",
    "- Games 58.16%\n",
    "- Entertainment 7.88%\n",
    "- Photo & Video 4.96%\n",
    "- Education 3.66%\n",
    "\n",
    "We can see that more than half of the apps in iOS store (58.16%) are Games, while GooglePlay Market shows that games have only 9.72% which is top2 result, while the Family Category has 18.90%. But if we check what the actual Family category means, there are mostly games for kids."
   ]
  },
  {
   "cell_type": "code",
   "execution_count": 80,
   "id": "ebd35dc2-3675-4253-94ef-bcf9ec98a8e2",
   "metadata": {},
   "outputs": [
    {
     "name": "stdout",
     "output_type": "stream",
     "text": [
      "Social Networking : 71548.34905660378\n",
      "Photo & Video : 28441.54375\n",
      "Games : 22788.6696905016\n",
      "Music : 57326.530303030304\n",
      "Reference : 74942.11111111111\n",
      "Health & Fitness : 23298.015384615384\n",
      "Weather : 52279.892857142855\n",
      "Utilities : 18684.456790123455\n",
      "Travel : 28243.8\n",
      "Shopping : 26919.690476190477\n",
      "News : 21248.023255813954\n",
      "Navigation : 86090.33333333333\n",
      "Lifestyle : 16485.764705882353\n",
      "Entertainment : 14029.830708661417\n",
      "Food & Drink : 33333.92307692308\n",
      "Sports : 23008.898550724636\n",
      "Book : 39758.5\n",
      "Finance : 31467.944444444445\n",
      "Education : 7003.983050847458\n",
      "Productivity : 21028.410714285714\n",
      "Business : 7491.117647058823\n",
      "Catalogs : 4004.0\n",
      "Medical : 612.0\n"
     ]
    }
   ],
   "source": [
    "genres_ios = freq_table(free_apps_ios, 11)\n",
    "\n",
    "for genre in genres_ios:\n",
    "    total = 0\n",
    "    len_genre = 0\n",
    "    for app in free_apps_ios:\n",
    "        genre_app = app[11]\n",
    "        if genre_app == genre:\n",
    "            user_ratings = float(app[5])\n",
    "            total += user_ratings\n",
    "            len_genre += 1\n",
    "    avg_number = total / len_genre\n",
    "    print(genre, ':', avg_number)"
   ]
  },
  {
   "cell_type": "markdown",
   "id": "ee7a18ab-44f5-4dc4-87dd-e0800a2ec9a4",
   "metadata": {},
   "source": [
    "- Calculation above helps us to calculate the average number of installs for each app genre.\n",
    "- Since App Store information is missing, we have used for it `rating_count_tot` which is total number of user ratings\n",
    "\n",
    "## Based on the data we have, the most popular ones are:\n",
    "- Navigation\n",
    "- Reference\n",
    "- Social Networking\n",
    "- Music\n",
    "\n",
    "Some of the genres might be influenced by popular apps (e.g Waze/Google Maps) in Navigation ; Bible in Reference and etc."
   ]
  },
  {
   "cell_type": "code",
   "execution_count": 95,
   "id": "1f30ea27-ad30-41aa-bf2b-ba94396c183e",
   "metadata": {},
   "outputs": [
    {
     "name": "stdout",
     "output_type": "stream",
     "text": [
      "ART_AND_DESIGN : 1986335.0877192982\n",
      "AUTO_AND_VEHICLES : 647317.8170731707\n",
      "BEAUTY : 513151.88679245283\n",
      "BOOKS_AND_REFERENCE : 8767811.894736841\n",
      "BUSINESS : 1712290.1474201474\n",
      "COMICS : 817657.2727272727\n",
      "COMMUNICATION : 38456119.167247385\n",
      "DATING : 854028.8303030303\n",
      "EDUCATION : 1833495.145631068\n",
      "ENTERTAINMENT : 11640705.88235294\n",
      "EVENTS : 253542.22222222222\n",
      "FINANCE : 1387692.475609756\n",
      "FOOD_AND_DRINK : 1924897.7363636363\n",
      "HEALTH_AND_FITNESS : 4188821.9853479853\n",
      "HOUSE_AND_HOME : 1331540.5616438356\n",
      "LIBRARIES_AND_DEMO : 638503.734939759\n",
      "LIFESTYLE : 1437816.2687861272\n",
      "GAME : 15588015.603248259\n",
      "FAMILY : 3695641.8198090694\n",
      "MEDICAL : 120550.61980830671\n",
      "SOCIAL : 23253652.127118643\n",
      "SHOPPING : 7036877.311557789\n",
      "PHOTOGRAPHY : 17840110.40229885\n",
      "SPORTS : 3638640.1428571427\n",
      "TRAVEL_AND_LOCAL : 13984077.710144928\n",
      "TOOLS : 10801391.298666667\n",
      "PERSONALIZATION : 5201482.6122448975\n",
      "PRODUCTIVITY : 16787331.344927534\n",
      "PARENTING : 542603.6206896552\n",
      "WEATHER : 5074486.197183099\n",
      "VIDEO_PLAYERS : 24727872.452830188\n",
      "NEWS_AND_MAGAZINES : 9549178.467741935\n",
      "MAPS_AND_NAVIGATION : 4056941.7741935486\n"
     ]
    }
   ],
   "source": [
    "genres_android = freq_table(free_apps_android, 1)\n",
    "\n",
    "for app in genres_android:\n",
    "    total = 0\n",
    "    len_category = 0\n",
    "    for row in free_apps_android:\n",
    "        category_app = row[1]\n",
    "        if category_app == app:\n",
    "            installs = row[5]\n",
    "            installs = installs.replace('+', '')\n",
    "            installs = installs.replace(',', '')\n",
    "            installs = float(installs)\n",
    "            total += installs\n",
    "            len_category += 1\n",
    "    avg_num = total / len_category\n",
    "    print(app, ':', avg_num)"
   ]
  },
  {
   "cell_type": "markdown",
   "id": "b25e2b14-14da-4b00-aa4b-07d954a87dc7",
   "metadata": {},
   "source": []
  }
 ],
 "metadata": {
  "kernelspec": {
   "display_name": "Python 3 (ipykernel)",
   "language": "python",
   "name": "python3"
  },
  "language_info": {
   "codemirror_mode": {
    "name": "ipython",
    "version": 3
   },
   "file_extension": ".py",
   "mimetype": "text/x-python",
   "name": "python",
   "nbconvert_exporter": "python",
   "pygments_lexer": "ipython3",
   "version": "3.12.7"
  }
 },
 "nbformat": 4,
 "nbformat_minor": 5
}
